{
 "cells": [
  {
   "cell_type": "markdown",
   "metadata": {},
   "source": [
    "# 06 · Renormalization & Hierarchical Planning on a Ring World\n",
    "\n",
    "We coarse-grain a fine ring world (size $N$) to macro rings (size $M$), derive coarse models $A',B'$, and compare **planning cost vs. action quality** at micro vs. macro levels. We also demo a simple **hierarchical plan**: plan in macro space first, then refine locally in micro space.\n",
    "\n",
    "**Key operators** (from `persystems.renorm`):\n",
    "- Partition map $\\pi: \\{0..N-1\\}\\to\\{0..M-1\\}$ → matrix $R$ (rows = macro, cols = micro). Restrict belief: $Q = Rq$.\n",
    "- Right-inverse (lift) $L$ with $RL=I_M$. Lift belief: $q = LQ$.\n",
    "- Coarse models: $A' = \\text{block-avg}(A)$, \\quad $B'^a = R B^a L$.\n",
    "\n",
    "We measure planning **nodes expanded** and wall-time vs. $M$, and compare the chosen action against the fine-level planner at the same horizon $H$."
   ]
  },
  {
   "cell_type": "code",
   "execution_count": null,
   "metadata": {},
   "outputs": [],
   "source": [
    "# CI-friendly parameters\n",
    "import os\n",
    "CI = os.getenv(\"CI\", \"\").lower() in (\"1\",\"true\",\"yes\")\n",
    "N_FINE   = 12 if CI else 20        # fine ring size\n",
    "H_LIST   = [1,2] if CI else [1,2,3]\n",
    "M_LIST   = [3,4,6] if CI else [3,4,5,6,10]  # macro sizes to try\n",
    "PRUNE    = 1e-4\n",
    "print({\"CI\": CI, \"N_FINE\": N_FINE, \"H_LIST\": H_LIST, \"M_LIST\": M_LIST})"
   ]
  },
  {
   "cell_type": "markdown",
   "metadata": {},
   "source": [
    "## Imports & world construction\n",
    "We’ll reuse the ring world from Phase I and the coarse-graining tools from Phase II/III."
   ]
  },
  {
   "cell_type": "code",
   "execution_count": null,
   "metadata": {},
   "outputs": [],
   "source": [
    "import time\n",
    "import numpy as np\n",
    "import matplotlib.pyplot as plt\n",
    "import pandas as pd\n",
    "from persystems.gm import GenerativeModel\n",
    "from persystems.renorm import contiguous_blocks_ring, coarse_grain_ringworld, restrict_belief, lift_belief\n",
    "from persystems.planning import choose_action_planner\n",
    "\n",
    "np.set_printoptions(precision=4, suppress=True)\n",
    "plt.rcParams['figure.dpi'] = 120\n",
    "\n",
    "N = N_FINE\n",
    "gm = GenerativeModel.make_ring_world(N=N, A_eps=0.15, target_idx=(N//2))\n",
    "qs0 = np.ones(N)/N   # uniform belief to isolate planning cost\n",
    "print(\"Fine states:\", N, \"; actions:\", gm.actions)"
   ]
  },
  {
   "cell_type": "markdown",
   "metadata": {},
   "source": [
    "## Helper: benchmark planner at fine vs. macro levels\n",
    "At macro level, we restrict the belief $q\\to Q$, plan using $A',B'$, and compare chosen action to fine-level planning. Actions are the same shift set ($-1,0,+1$), so the mapping is identity."
   ]
  },
  {
   "cell_type": "code",
   "execution_count": null,
   "metadata": {},
   "outputs": [],
   "source": [
    "def bench_fine(gm, qs, H, prune=1e-4):\n",
    "    t0 = time.perf_counter()\n",
    "    a_idx, comp, Gs, diags = choose_action_planner(qs, gm.A, gm.B, gm.C, horizon=H, obs_prune_eps=prune)\n",
    "    return {\n",
    "        \"level\": \"fine\", \"H\": H, \"a\": a_idx,\n",
    "        \"nodes\": diags.nodes_expanded, \"pruned\": diags.pruned_obs,\n",
    "        \"dt\": time.perf_counter()-t0, \"Gs\": Gs\n",
    "    }\n",
    "\n",
    "def bench_macro(gm, qs, M, H, prune=1e-4):\n",
    "    # Coarse-grain operators and models\n",
    "    A_coarse, B_coarse, R, L, blocks = coarse_grain_ringworld(gm.A, gm.B, N=gm.A.shape[0], M=M)\n",
    "    Qs = restrict_belief(R, qs)\n",
    "    # plan at macro level\n",
    "    t0 = time.perf_counter()\n",
    "    a_idx, comp, Gs, diags = choose_action_planner(Qs, A_coarse, B_coarse, gm.C, horizon=H, obs_prune_eps=prune)\n",
    "    return {\n",
    "        \"level\": f\"macro(M={M})\", \"H\": H, \"a\": a_idx,\n",
    "        \"nodes\": diags.nodes_expanded, \"pruned\": diags.pruned_obs,\n",
    "        \"dt\": time.perf_counter()-t0, \"Gs\": Gs,\n",
    "        \"R\": R, \"L\": L, \"blocks\": blocks\n",
    "    }"
   ]
  },
  {
   "cell_type": "markdown",
   "metadata": {},
   "source": [
    "## Sweep macro sizes and horizons\n",
    "We compare compute (nodes, time) and action agreement with the fine planner at the same horizon $H$."
   ]
  },
  {
   "cell_type": "code",
   "execution_count": null,
   "metadata": {},
   "outputs": [],
   "source": [
    "rows = []\n",
    "for H in H_LIST:\n",
    "    ref = bench_fine(gm, qs0, H, prune=0.0)   # exact (no prune) as reference\n", 
    "    rows.append({**ref, \"method\": \"fine_exact\"})\n",
    "    for M in M_LIST:\n",
    "        rec = bench_macro(gm, qs0, M, H, prune=PRUNE)\n",
    "        rec[\"method\"] = f\"macro_pruned(M={M})\"\n",
    "        rec[\"agree_with_fine\"] = int(rec[\"a\"] == ref[\"a\"])  # 1 if same first action\n",
    "        rows.append(rec)\n",
    "\n",
    "df = pd.DataFrame(rows)\n",
    "df.sort_values([\"H\",\"level\"]).head(8)"
   ]
  },
  {
   "cell_type": "markdown",
   "metadata": {},
   "source": [
    "### Nodes vs. macro size $M$\n",
    "Coarser $M$ should reduce nodes for the same $H$, often with modest impact on the chosen action in this toy world."
   ]
  },
  {
   "cell_type": "code",
   "execution_count": null,
   "metadata": {},
   "outputs": [],
   "source": [
    "plt.figure(figsize=(7,4))\n",
    "for H in H_LIST:\n",
    "    sub = df[(df[\"H\"]==H) & (df[\"level\"].str.startswith(\"macro\"))]\n",
    "    # extract M from label\n",
    "    Ms = sub[\"level\"].str.extract(r\"M=(\\d+)\").astype(int)[0]\n",
    "    plt.plot(Ms, sub[\"nodes\"], marker='o', label=f\"H={H} macro\")\n",
    "ref_nodes = df[(df[\"H\"]==H) & (df[\"level\"]==\"fine\")][\"nodes\"].values[0]\n",
    "    \n",
    "plt.yscale('log')\n",
    "plt.xlabel('macro states M')\n",
    "plt.ylabel('nodes expanded (log scale)')\n",
    "plt.title('Search complexity vs. macro size')\n",
    "plt.legend(fontsize=8)\n",
    "plt.tight_layout(); plt.show()"
   ]
  },
  {
   "cell_type": "markdown",
   "metadata": {},
   "source": [
    "### Agreement with fine planner (first action)\n",
    "How often the macro plan matches the fine-level first action at the same horizon $H$ (here with a uniform prior belief). In more complex setups, agreement can be improved by increasing $M$ or doing local micro refinement around the macro-suggested action/state neighborhood."
   ]
  },
  {
   "cell_type": "code",
   "execution_count": null,
   "metadata": {},
   "outputs": [],
   "source": [
    "agree_tbl = (\n",
    "    df[df[\"level\"].str.startswith(\"macro\")]\n",
    "    .assign(M=lambda d: d[\"level\"].str.extract(r\"M=(\\d+)\").astype(int))\n",
    "    .groupby([\"H\",\"M\"]).agg(agree_rate=(\"agree_with_fine\",\"mean\"), nodes_median=(\"nodes\",\"median\")).reset_index()\n",
    ")\n",
    "agree_tbl.sort_values([\"H\",\"M\"]).head(10)"
   ]
  },
  {
   "cell_type": "code",
   "execution_count": null,
   "metadata": {},
   "outputs": [],
   "source": [
    "plt.figure(figsize=(7,4))\n",
    "for H in H_LIST:\n",
    "    sub = agree_tbl[agree_tbl[\"H\"]==H]\n",
    "    plt.plot(sub[\"M\"], 100*sub[\"agree_rate\"], marker='o', label=f\"H={H}\")\n",
    "plt.ylim(0,105)\n",
    "plt.xlabel('macro states M')\n",
    "plt.ylabel('agreement with fine action (%)')\n",
    "plt.title('Macro plan agreement vs. M')\n",
    "plt.legend(fontsize=8)\n",
    "plt.tight_layout(); plt.show()"
   ]
  },
  {
   "cell_type": "markdown",
   "metadata": {},
   "source": [
    "## Hierarchical plan: macro then micro\n",
    "A simple two-stage planner:\n",
    "1. **Macro stage**: restrict $q\\to Q$, choose action $a_{macro}$ using $A',B'$, horizon $H_{macro}$.\n",
    "2. **Micro stage**: lift $Q\\to q$ and refine by choosing micro action with horizon $H_{micro}$ (optionally conditioned on macro suggestion).\n",
    "\n",
    "On this symmetric ring, actions map 1:1 across levels, so we just compare the chosen actions and compute the overall compute savings (nodes)."
   ]
  },
  {
   "cell_type": "code",
   "execution_count": null,
   "metadata": {},
   "outputs": [],
   "source": [
    "def hierarchical_plan(gm, qs, M, H_macro=2, H_micro=1, prune=1e-4):\n",
    "    A_coarse, B_coarse, R, L, blocks = coarse_grain_ringworld(gm.A, gm.B, N=gm.A.shape[0], M=M)\n",
    "    Qs = restrict_belief(R, qs)\n",
    "    # Macro choice\n",
    "    aM, compM, GsM, dM = choose_action_planner(Qs, A_coarse, B_coarse, gm.C, horizon=H_macro, obs_prune_eps=prune)\n",
    "    # Micro refinement (we could bias by macro suggestion; here we just plan normally)\n",
    "    aF, compF, GsF, dF = choose_action_planner(qs, gm.A, gm.B, gm.C, horizon=H_micro, obs_prune_eps=prune)\n",
    "    nodes = dM.nodes_expanded + dF.nodes_expanded\n",
    "    return {\n",
    "        \"a_macro\": aM, \"a_micro\": aF,\n",
    "        \"nodes_total\": nodes, \"nodes_macro\": dM.nodes_expanded, \"nodes_micro\": dF.nodes_expanded\n",
    "    }\n",
    "\n",
    "# Demo\n",
    "res = hierarchical_plan(gm, qs0, M=max(M_LIST), H_macro=2, H_micro=1, prune=PRUNE)\n",
    "res"
   ]
  },
  {
   "cell_type": "markdown",
   "metadata": {},
   "source": [
    "### Compare to full fine-level planning at the larger horizon\n",
    "We compare the hierarchical nodes vs. a single fine planner at $H=H_{macro}+H_{micro}$ and whether the first action matches the full fine planner’s first action at that horizon (a rough proxy for quality on this toy)."
   ]
  },
  {
   "cell_type": "code",
   "execution_count": null,
   "metadata": {},
   "outputs": [],
   "source": [
    "H_macro, H_micro = 2, 1\n",
    "M_demo = max(M_LIST)\n",
    "hier = hierarchical_plan(gm, qs0, M=M_demo, H_macro=H_macro, H_micro=H_micro, prune=PRUNE)\n",
    "full = bench_fine(gm, qs0, H=H_macro+H_micro, prune=0.0)\n",
    "print(\"Hierarchical:\", hier)\n",
    "print(\"Full fine H=\", H_macro+H_micro, \": nodes=\", full['nodes'], \", a=\", full['a'])\n",
    "print(\"First action match? →\", (hier['a_macro'] == full['a']) or (hier['a_micro'] == full['a']))"
   ]
  },
  {
   "cell_type": "markdown",
   "metadata": {},
   "source": [
    "## Takeaways\n",
    "- Coarse-graining (smaller $M$) **reduces planning nodes/time** for the same horizon $H$.\n",
    "- On this symmetric ring, the **first action** often agrees across levels even when $M \\ll N$.\n",
    "- A **hierarchical plan** (macro then micro) can approximate a deeper fine plan with far fewer nodes — especially as $H$ grows or when $N$ is large.\n",
    "- For richer worlds, you’ll want task-specific mappings (macro options) and local micro refinements conditioned on macro suggestions; the same operators ($R,L$) and approach extend naturally."
   ]
  }
 ],
 "metadata": {
  "kernelspec": {
   "display_name": "Python 3",
   "language": "python",
   "name": "python3"
  },
  "language_info": {
   "name": "python",
   "version": "3.10"
  }
 },
 "nbformat": 4,
 "nbformat_minor": 5
}

