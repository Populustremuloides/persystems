{
 "cells": [
  {
   "cell_type": "markdown",
   "source": [
    "# 07 · Inner Screen & Boundaries (Blanket-Mediated Access)\n",
    "\n",
    "Goal: illustrate an \"**inner screen**\" style boundary where **internal** states update using only **blanket** variables (sensory/active), \n",
    "not the external states directly. We:\n",
    "\n",
    "1. Simulate a nonequilibrium process that couples an external coordinate $y_t$ to internal $x_t$ through a sensory channel $s_t$ (no direct $x\\leftarrow y$ access).\n",
    "2. Verify with **precision-matrix diagnostics** that conditioning on the blanket reduces $I\\text{–}E$ coupling.\n",
    "3. Implement two internal estimators:\n",
    "   - **Screened update**: $\\hat x_t$ updated from past $\\hat x$ and **sensory** $s_t$ only.\n",
    "   - **Unscreened oracle** (for comparison): $\\hat x_t$ allowed to peek at true external $y_t$.\n",
    "4. Show the screened estimator can still track the relevant external influence **without** violating the boundary.\n",
    "\n",
    "> This is a concrete, toy demonstration of how internal dynamics can be interpreted as *inference* over externals using only blanket-moderated signals."
   ]
  },
  {
   "cell_type": "code",
   "source": [
    "# CI parameters",
    "import os",
    "CI = os.getenv(\"CI\", \"\").lower() in (\"1\",\"true\",\"yes\")",
    "T = 20000 if CI else 60000",
    "dt = 0.002",
    "print({\"CI\": CI, \"T\": T})"
   ],
   "execution_count": null,
   "outputs": []
  },
  {
   "cell_type": "code",
   "source": [
    "import numpy as np, matplotlib.pyplot as plt, pandas as pd",
    "from persystems.blankets import blanket_block_norms",
    "np.set_printoptions(precision=4, suppress=True)",
    "plt.rcParams['figure.dpi'] = 120",
    "rng = np.random.default_rng(1)"
   ],
   "execution_count": null,
   "outputs": []
  },
  {
   "cell_type": "markdown",
   "source": [
    "## 1) A minimal screened coupling process\n",
    "We simulate:\n",
    "- External $y$: an OU-like process.\n",
    "- Sensory $s$: a noisy function of $y$.\n",
    "- Internal $x$: leaky integrator driven by **sensory** $s$ but **not** $y$ directly.\n",
    "\n",
    "This ensures that any $x$–$y$ associations must pass through the sensory blanket."
   ]
  },
  {
   "cell_type": "code",
   "source": [
    "def simulate_screened(T=60000, dt=0.002, seed=1):",
    "    rng = np.random.default_rng(seed)",
    "    # Parameters",
    "    ay = 1.2; Dy = 0.6   # external OU-ish drift and diffusion",
    "    ax = 0.8; bx = 1.0   # internal decay and sensory gain",
    "    sig_s = 0.5          # sensory noise",
    "",
    "    y = 0.0; x = 0.0",
    "    Y = np.zeros(T); S = np.zeros(T); X = np.zeros(T)",
    "    for t in range(T):",
    "        # external",
    "        y = y + (-ay*y)*dt + np.sqrt(2*Dy*dt)*rng.standard_normal()",
    "        s = y + sig_s*rng.standard_normal()",
    "        # internal (screened: depends on s, not y)",
    "        x = x + (-ax*x + bx*s)*dt + 0.05*np.sqrt(dt)*rng.standard_normal()",
    "        Y[t]=y; S[t]=s; X[t]=x",
    "    return X, S, Y",
    "",
    "X, S, Y = simulate_screened(T=T, dt=dt, seed=1)",
    "X.shape, S.shape, Y.shape"
   ],
   "execution_count": null,
   "outputs": []
  },
  {
   "cell_type": "code",
   "source": [
    "plt.figure(figsize=(8,3.5))",
    "plt.plot(Y[::200], label='external y', alpha=0.9)",
    "plt.plot(S[::200], label='sensory s', alpha=0.7)",
    "plt.plot(X[::200], label='internal x', alpha=0.9)",
    "plt.legend(fontsize=8); plt.title('Screened coupling demo (subsampled)')",
    "plt.tight_layout(); plt.show()"
   ],
   "execution_count": null,
   "outputs": []
  },
  {
   "cell_type": "markdown",
   "source": [
    "## 2) Blanket diagnostics\n",
    "We build a sample matrix $Z=[I|A|S|E]$ by taking:\n",
    "- $I=x_t$ (internal),\n",
    "- $A=\\dot x_t$ (active surrogate),\n",
    "- $S=s_t$ (sensory),\n",
    "- $E=y_{t+1}$ (external next step).\n",
    "\n",
    "We then compute precision-matrix blocks and the Schur-complement $K_{IE\\mid AS}$."
   ]
  },
  {
   "cell_type": "code",
   "source": [
    "dx = (np.roll(X,-1)-X)/dt",
    "y_next = np.roll(Y,-1)",
    "Z = np.stack([X[:-1], dx[:-1], S[:-1], y_next[:-1]], axis=1)",
    "norms = blanket_block_norms(Z, dims={\"I\":1,\"A\":1,\"S\":1,\"E\":1}, reg=1e-4)",
    "pd.DataFrame([{k:float(v) for k,v in norms.items()}]).T.rename(columns={0:'Frobenius'})"
   ],
   "execution_count": null,
   "outputs": []
  },
  {
   "cell_type": "markdown",
   "source": [
    "Heuristic check: $\\lVert K_{IE\\mid AS}\\rVert$ should be smaller than raw $\\lVert K_{IE}\\rVert$ if the blanket separates internal and external when conditioned on $(A,S)$."
   ]
  },
  {
   "cell_type": "code",
   "source": [
    "print('K_IE       =', norms['K_IE'])",
    "print('K_IE|AS    =', norms['K_IE_cond_AS'])",
    "print('Conditioning reduced IE coupling? →', norms['K_IE_cond_AS'] <= norms['K_IE'] + 1e-9)"
   ],
   "execution_count": null,
   "outputs": []
  },
  {
   "cell_type": "markdown",
   "source": [
    "## 3) Inner-state estimation with and without peeking beyond the screen\n",
    "We build two linear trackers for $x_t$:\n",
    "- **Screened:** $\\hat x_{t+1}= (1-\\alpha\\,dt)\\hat x_t + \\beta\\,dt\\, s_t$.\n",
    "- **Oracle:**   same, plus an illicit $\\gamma\\,dt\\, y_t$ term (violates the boundary).\n",
    "\n",
    "We compare MSE against the true internal $x_t$; the screened tracker should perform well because the *only* driver for $x$ is sensory $s$."
   ]
  },
  {
   "cell_type": "code",
   "source": [
    "def track_screened(S, dt, alpha=0.8, beta=1.0):",
    "    xh = 0.0; Xh = np.zeros_like(S)",
    "    for t in range(len(S)-1):",
    "        xh = xh + (-alpha*xh + beta*S[t]) * dt",
    "        Xh[t+1]=xh",
    "    return Xh",
    "",
    "def track_oracle(S, Y, dt, alpha=0.8, beta=1.0, gamma=0.3):",
    "    xh = 0.0; Xh = np.zeros_like(S)",
    "    for t in range(len(S)-1):",
    "        xh = xh + (-alpha*xh + beta*S[t] + gamma*Y[t]) * dt",
    "        Xh[t+1]=xh",
    "    return Xh",
    "",
    "Xh_scr = track_screened(S, dt)",
    "Xh_orc = track_oracle(S, Y, dt)",
    "mse_scr = float(np.mean((Xh_scr - X)**2))",
    "mse_orc = float(np.mean((Xh_orc - X)**2))",
    "print({\"MSE_screened\": mse_scr, \"MSE_oracle\": mse_orc})"
   ],
   "execution_count": null,
   "outputs": []
  },
  {
   "cell_type": "code",
   "source": [
    "plt.figure(figsize=(8,3.5))",
    "plt.plot(X[::200], label='true x');",
    "plt.plot(Xh_scr[::200], label='screened x̂');",
    "plt.plot(Xh_orc[::200], label='oracle x̂', alpha=0.7);",
    "plt.legend(fontsize=8); plt.title('Internal tracking (subsampled)')",
    "plt.tight_layout(); plt.show()"
   ],
   "execution_count": null,
   "outputs": []
  },
  {
   "cell_type": "markdown",
   "source": [
    "### Takeaways\n",
    "- The **screened** internal estimator works well because internal dynamics are *causally* driven by sensory input; there's no need to peek at $y$.\n",
    "- Blanket diagnostics show reduced $I$–$E$ coupling once we condition on $(A,S)$, consistent with an **inner screen** boundary.\n",
    "- This toy makes concrete how internal states can be interpreted as **inference** about externals using *only* blanket variables, aligning with the Bayesian mechanics perspective."
   ]
  }
 ],
 "metadata": {
  "kernelspec": {"display_name":"Python 3","language":"python","name":"python3"},
  "language_info": {"name":"python","version":"3.10"}
 },
 "nbformat": 4,
 "nbformat_minor": 5
}

