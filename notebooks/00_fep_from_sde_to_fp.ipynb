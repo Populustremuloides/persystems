{
 "cells": [
  {
   "cell_type": "markdown",
   "metadata": {},
   "source": [
    "# 00 · From SDE to Fokker–Planck, NESS, and Helmholtz split\n",
    "\n",
    "This notebook connects continuous **stochastic dynamics** to the\n",
    "Fokker–Planck viewpoint and the **Helmholtz (Hodge) decomposition** used by Friston’s\n",
    "Bayesian mechanics narrative.\n",
    "\n",
    "We:\n",
    "1. Simulate a 2D Langevin SDE: $\\mathrm{d}x_t = f(x_t)\\,\\mathrm{d}t + \\sqrt{2D}\\,\\mathrm{d}w_t$.\n",
    "2. Empirically estimate the **steady-state density** $p^*(x)$ (ergodic histogram) and potential $\\Phi(x)=-\\ln p^*(x)$.\n",
    "3. Decompose the drift **on a periodic grid**: $f = \\underbrace{\\nabla\\phi}_{\\text{curl-free}} + \\underbrace{\\mathbf R\\nabla\\psi}_{\\text{divergence-free}}$.\n",
    "\n",
    "> **Fokker–Planck link (recap):**\n",
    "$$\\partial_t p(x,t) = -\\nabla\\cdot(f p) + \\nabla\\cdot D\\,\\nabla p.$$\n",
    "At non-equilibrium steady state (NESS), $\\partial_t p^*=0$; density can be stationary while probability **currents** circulate (solenoidal component)."
   ]
  },
  {
   "cell_type": "code",
   "execution_count": null,
   "metadata": {},
   "outputs": [],
   "source": [
    "import numpy as np, matplotlib.pyplot as plt\n",
    "from persystems.sde import euler_maruyama, drift_doublewell_with_swirl\n",
    "from persystems.fp import histogram2d_density, separable_gaussian_blur, potential_from_density\n",
    "from persystems.helmholtz import helmholtz_decompose_periodic\n",
    "np.random.seed(7)\n",
    "plt.rcParams['figure.dpi'] = 120"
   ]
  },
  {
   "cell_type": "markdown",
   "metadata": {},
   "source": [
    "## 1) Simulate a 2D Langevin SDE (double-well + swirl)\n",
    "We use Euler–Maruyama with a potential-driven part (double well) plus a rotational field (solenoidal swirl)."
   ]
  },
  {
   "cell_type": "code",
   "execution_count": null,
   "metadata": {},
   "outputs": [],
   "source": [
    "T  = 200_000\n",
    "dt = 0.002\n",
    "D  = 0.05\n",
    "f  = drift_doublewell_with_swirl(a=1.0, b=1.0, k=1.0)\n",
    "X  = euler_maruyama(np.array([0.0, 0.5]), f, dt=dt, T=T, D=D)\n",
    "burn = int(0.2*T)\n",
    "Xs = X[burn:]\n",
    "\n",
    "plt.figure(figsize=(5,4))\n",
    "plt.plot(Xs[::200,0], Xs[::200,1], '.', ms=1)\n",
    "plt.title('Subsampled trajectory after burn-in')\n",
    "plt.xlabel('x'); plt.ylabel('y'); plt.tight_layout(); plt.show()\n",
    "Xs.shape"
   ]
  },
  {
   "cell_type": "markdown",
   "metadata": {},
   "source": [
    "## 2) Empirical steady-state density and potential\n",
    "We estimate $p^*(x)$ via a normalized 2D histogram (ergodic approximation), smooth it, and compute $\\Phi=-\\ln p^*(x)$ for visualization.\n",
    "This is a practical surrogate for solving the stationary Fokker–Planck PDE on a grid."
   ]
  },
  {
   "cell_type": "code",
   "execution_count": null,
   "metadata": {},
   "outputs": [],
   "source": [
    "pad = 0.5\n",
    "xmin, xmax = Xs[:,0].min()-pad, Xs[:,0].max()+pad\n",
    "ymin, ymax = Xs[:,1].min()-pad, Xs[:,1].max()+pad\n",
    "Nx, Ny = 120, 120\n",
    "xbins = np.linspace(xmin, xmax, Nx+1)\n",
    "ybins = np.linspace(ymin, ymax, Ny+1)\n",
    "p, xc, yc = histogram2d_density(Xs, xbins, ybins)\n",
    "p_s = separable_gaussian_blur(p, sigma_x=1.0, sigma_y=1.0)\n",
    "Phi = potential_from_density(p_s)\n",
    "\n",
    "XX, YY = np.meshgrid(xc, yc)\n",
    "plt.figure(figsize=(6,5))\n",
    "plt.imshow(p_s, origin='lower', extent=[xmin,xmax,ymin,ymax], aspect='auto')\n",
    "plt.colorbar(label='p*(x)')\n",
    "cs = plt.contour(XX, YY, Phi, levels=20, colors='k', linewidths=0.5, alpha=0.6)\n",
    "plt.clabel(cs, inline=True, fmt='%.1f', fontsize=7)\n",
    "plt.title('Empirical steady-state density and potential Φ = −log p*')\n",
    "plt.xlabel('x'); plt.ylabel('y'); plt.tight_layout(); plt.show()"
   ]
  },
  {
   "cell_type": "markdown",
   "metadata": {},
   "source": [
    "## 3) Drift field and Helmholtz (Hodge) decomposition on a periodic grid\n",
    "On the grid we evaluate the drift $f$ and decompose it into curl-free (**gradient**) and divergence-free (**solenoidal**) components via a Fourier-space projector (periodic boundary assumption). The solenoidal part captures **circulating probability currents** possible at NESS."
   ]
  },
  {
   "cell_type": "code",
   "execution_count": null,
   "metadata": {},
   "outputs": [],
   "source": [
    "# Evaluate drift on the grid\n",
    "Vx = np.zeros_like(XX)\n",
    "Vy = np.zeros_like(YY)\n",
    "for i in range(Ny):\n",
    "    for j in range(Nx):\n",
    "        v = f(np.array([XX[i,j], YY[i,j]]))\n",
    "        Vx[i,j], Vy[i,j] = v[0], v[1]\n",
    "\n",
    "# Helmholtz split (periodic)\n",
    "vgx, vgy, vsx, vsy = helmholtz_decompose_periodic(Vx, Vy, Lx=(xmax-xmin), Ly=(ymax-ymin))\n",
    "rec_err = float(np.sqrt(np.mean((Vx-(vgx+vsx))**2 + (Vy-(vgy+vsy))**2)))\n",
    "rec_err"
   ]
  },
  {
   "cell_type": "code",
   "execution_count": null,
   "metadata": {},
   "outputs": [],
   "source": [
    "skip = max(1, Nx//30)\n",
    "plt.figure(figsize=(12,5))\n",
    "plt.subplot(1,2,1)\n",
    "plt.quiver(XX[::skip,::skip], YY[::skip,::skip], vgx[::skip,::skip], vgy[::skip,::skip], scale=60, width=0.003)\n",
    "plt.title('Helmholtz: gradient (curl-free) component')\n",
    "plt.xlabel('x'); plt.ylabel('y')\n",
    "plt.subplot(1,2,2)\n",
    "plt.quiver(XX[::skip,::skip], YY[::skip,::skip], vsx[::skip,::skip], vsy[::skip,::skip], scale=60, width=0.003)\n",
    "plt.title('Helmholtz: solenoidal (divergence-free) component')\n",
    "plt.xlabel('x'); plt.ylabel('y')\n",
    "plt.suptitle(f'Reconstruction RMSE ≈ {rec_err:.3e}')\n",
    "plt.tight_layout(); plt.show()"
   ]
  },
  {
   "cell_type": "markdown",
   "metadata": {},
   "source": [
    "### Interpretation\n",
    "- **Gradient component** aligns with $-\\nabla \\Phi$ and reflects dissipative flow toward typical states (\"entropy-resisting\").\n",
    "- **Solenoidal component** produces rotational probability currents that can persist at NESS even though $p^*$ is stationary.\n",
    "- This clarifies why a system can be out of equilibrium (non-zero currents) yet have a time-invariant distribution.\n",
    "\n",
    "**Next:** Notebook 01 constructs an approximate **Markov blanket** partition from samples and checks conditional independencies via precision-matrix blocks."
   ]
  }
 ],
 "metadata": {
  "kernelspec": {
   "display_name": "Python 3",
   "language": "python",
   "name": "python3"
  },
  "language_info": {
   "name": "python",
   "version": "3.10"
  }
 },
 "nbformat": 4,
 "nbformat_minor": 5
}

