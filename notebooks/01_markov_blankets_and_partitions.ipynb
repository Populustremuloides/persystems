{
 "cells": [
  {
   "cell_type": "markdown",
   "metadata": {},
   "source": [
    "# 01 · Markov Blankets from Samples (Approximate)\n",
    "\n",
    "Goal: demonstrate an *approximate* Markov-blanket partition emerging from continuous dynamics by checking conditional independencies on samples.\n",
    "\n",
    "We:\n",
    "1. Simulate a 2D SDE (double-well + swirl) to a nonequilibrium steady state (NESS).\n",
    "2. Construct variables $(I, A, S, E)$ from trajectory slices.\n",
    "3. Compute precision-matrix block norms and the **Schur-complement** block $K_{IE\\mid AS}$.\n",
    "\n",
    "> Blanket intuition: under suitable partition/coarse-graining, internal $I$ and external $E$ become (approximately) conditionally independent given the blanket $(A,S)$."
   ]
  },
  {
   "cell_type": "code",
   "execution_count": null,
   "metadata": {},
   "outputs": [],
   "source": [
    "import numpy as np, pandas as pd, matplotlib.pyplot as plt\n",
    "from persystems.sde import euler_maruyama, drift_doublewell_with_swirl\n",
    "from persystems.blankets import blanket_block_norms\n",
    "np.random.seed(7)"
   ]
  },
  {
   "cell_type": "markdown",
   "metadata": {},
   "source": [
    "## 1) Simulate SDE to NESS\n",
    "We simulate the 2D Langevin SDE using Euler–Maruyama and discard an initial burn-in window."
   ]
  },
  {
   "cell_type": "code",
   "execution_count": null,
   "metadata": {},
   "outputs": [],
   "source": [
    "T = 200_000\n",
    "dt = 0.002\n",
    "D = 0.05\n",
    "f = drift_doublewell_with_swirl(a=1.0, b=1.0, k=1.0)\n",
    "X = euler_maruyama(np.array([0.0, 0.5]), f, dt=dt, T=T, D=D)\n",
    "burn = int(0.2*T)\n",
    "Xs = X[burn:]\n",
    "plt.figure(figsize=(5,4))\n",
    "plt.plot(Xs[::200,0], Xs[::200,1], '.', ms=1)\n",
    "plt.title('Subsampled trajectory after burn-in')\n",
    "plt.xlabel('x'); plt.ylabel('y'); plt.tight_layout(); plt.show()"
   ]
  },
  {
   "cell_type": "markdown",
   "metadata": {},
   "source": [
    "## 2) Build $(I,A,S,E)$ variables from the trajectory\n",
    "- Here we choose: $I=x_t$, $A=\\dot x_t\\approx (x_{t+1}-x_t)/\\Delta t$, $S=y_t$, $E=y_{t+1}$.\n",
    "- This is just one **operational** partition. Other choices (e.g., coarse-grained or multi-timescale) can strengthen blanket separation."
   ]
  },
  {
   "cell_type": "code",
   "execution_count": null,
   "metadata": {},
   "outputs": [],
   "source": [
    "x = Xs[:-1,0]\n",
    "y = Xs[:-1,1]\n",
    "vx = (Xs[1:,0] - Xs[:-1,0]) / dt\n",
    "y_next = Xs[1:,1]\n",
    "Z = np.stack([x, vx, y, y_next], axis=1)  # columns = [I, A, S, E]\n",
    "Z.shape"
   ]
  },
  {
   "cell_type": "markdown",
   "metadata": {},
   "source": [
    "## 3) Blanket diagnostics: precision-matrix blocks and Schur complement\n",
    "For Gaussian proxies, zeros in precision-matrix blocks correspond to conditional independencies.\n",
    "We compute Frobenius norms of off-diagonal blocks and the **conditioned** $K_{IE\\mid AS}$ via a Schur complement.\n",
    "\n",
    "> Heuristic outcome we look for: $\\lVert K_{IE\\mid AS}\\rVert$ should be **smaller** than $\\lVert K_{IE}\\rVert$ if the blanket partition is appropriate."
   ]
  },
  {
   "cell_type": "code",
   "execution_count": null,
   "metadata": {},
   "outputs": [],
   "source": [
    "norms = blanket_block_norms(Z, dims={\"I\":1, \"A\":1, \"S\":1, \"E\":1}, reg=1e-4)\n",
    "pd.DataFrame([{k: float(v) for k,v in norms.items()}]).T.rename(columns={0: 'Frobenius norm'})"
   ]
  },
  {
   "cell_type": "markdown",
   "metadata": {},
   "source": [
    "### Quick check\n",
    "We expect (heuristically) that conditioning on the blanket $(A,S)$ reduces the residual coupling between $I$ and $E$."
   ]
  },
  {
   "cell_type": "code",
   "execution_count": null,
   "metadata": {},
   "outputs": [],
   "source": [
    "print('K_IE       =', norms['K_IE'])\n",
    "print('K_IE|AS    =', norms['K_IE_cond_AS'])\n",
    "print('Conditioning reduced IE coupling? →', norms['K_IE_cond_AS'] <= norms['K_IE'] + 1e-9)"
   ]
  },
  {
   "cell_type": "markdown",
   "metadata": {},
   "source": [
    "## Notes\n",
    "- Blanket structure here is **approximate** and **scale-dependent**. Coarse-graining (spatial/temporal) or different variable groupings can enhance the separation.\n",
    "- In Friston’s Bayesian mechanics framing, at NESS and with a valid blanket, internal flows can be interpreted as **gradient flows** on a free-energy functional, hence the connection to *inference-like* dynamics."
   ]
  }
 ],
 "metadata": {
  "kernelspec": {
   "display_name": "Python 3",
   "language": "python",
   "name": "python3"
  },
  "language_info": {
   "name": "python",
   "version": "3.10"
  }
 },
 "nbformat": 4,
 "nbformat_minor": 5
}

